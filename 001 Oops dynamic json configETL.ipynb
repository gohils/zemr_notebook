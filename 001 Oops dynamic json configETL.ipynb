{
 "cells": [
  {
   "cell_type": "code",
   "execution_count": 18,
   "id": "4fc0b6e2",
   "metadata": {},
   "outputs": [],
   "source": [
    "class Person:\n",
    "    def __init__(self, fname, lname):\n",
    "        self.firstname = fname\n",
    "        self.lastname = lname\n",
    "    def get_detail_method(self):\n",
    "        print(self.firstname, self.lastname)\n",
    "\n",
    "class student(Person):\n",
    "    def __init__(self, fname, lname):\n",
    "        super().__init__(fname, lname)\n",
    "    def get_detail_method(self):\n",
    "        print('student name is -',self.firstname, self.lastname)\n",
    "class teacher(Person):\n",
    "    def __init__(self, fname, lname):\n",
    "        super().__init__(fname, lname)\n",
    "    def get_detail_method(self):\n",
    "        print('teacher name is -',self.firstname, self.lastname)\n"
   ]
  },
  {
   "cell_type": "code",
   "execution_count": 19,
   "id": "850f40fc",
   "metadata": {},
   "outputs": [],
   "source": [
    "def factory(classname):\n",
    "    cls = globals()[classname]\n",
    "    return cls()"
   ]
  },
  {
   "cell_type": "code",
   "execution_count": 20,
   "id": "2638728d",
   "metadata": {},
   "outputs": [
    {
     "name": "stdout",
     "output_type": "stream",
     "text": [
      "<class '__main__.student'>\n",
      "student name is - Mike stu\n",
      "<class '__main__.teacher'>\n",
      "teacher name is - James tea\n"
     ]
    }
   ],
   "source": [
    "class_list = []\n",
    "classname = \"student\"\n",
    "cls1 = vars()[classname](\"Mike\", \"stu\")\n",
    "class_list.append(cls1)\n",
    "\n",
    "classname = \"teacher\"\n",
    "cls1 = vars()[classname](\"James\", \"tea\")\n",
    "class_list.append(cls1)\n",
    "\n",
    "for class_int in class_list:\n",
    "    print(type(class_int))\n",
    "    class_int.get_detail_method()"
   ]
  },
  {
   "cell_type": "code",
   "execution_count": 48,
   "id": "b7f4a40a",
   "metadata": {},
   "outputs": [],
   "source": [
    "# class with json config file and create class instance based on class name\n",
    "class Person_dict:\n",
    "    def __init__(self, **init_kwargs):\n",
    "        self.dict_conf = init_kwargs\n",
    "    def get_detail_method(self):\n",
    "        print(self.dict_conf)\n",
    "    def get_name_method(self):\n",
    "        pass\n",
    "class student_dict(Person_dict):\n",
    "    def __init__(self, **init_kwargs):\n",
    "        super().__init__(**init_kwargs)\n",
    "    def get_detail_method(self):\n",
    "        print('student detail is -',self.dict_conf)\n",
    "    def get_name_method(self):\n",
    "        print('student name is -',self.dict_conf.get('name', None))\n",
    "        \n",
    "class teacher_dict(Person_dict):\n",
    "    def __init__(self, **init_kwargs):\n",
    "        super().__init__(**init_kwargs)\n",
    "    def get_detail_method(self):\n",
    "        print('teacher detail is -',self.dict_conf)\n",
    "    def get_name_method(self):\n",
    "        print('teacher name is -',self.dict_conf.get('name', None))\n",
    "        \n"
   ]
  },
  {
   "cell_type": "code",
   "execution_count": 50,
   "id": "71d07d99",
   "metadata": {},
   "outputs": [
    {
     "name": "stdout",
     "output_type": "stream",
     "text": [
      "student detail is - {'rollNumber': 1, 'name': 'James', 'marks': {'english': 75, 'maths': 80}}\n",
      "student name is - James\n",
      "teacher detail is - {'rollNumber': 2, 'name': 'David', 'marks': {'english': 55, 'maths': 65}}\n",
      "teacher name is - David\n"
     ]
    }
   ],
   "source": [
    "class_list = []\n",
    "json_str_conf = \"\"\"\n",
    "{\n",
    "    \"rollNumber\": 1,\n",
    "    \"name\": \"James\",\n",
    "    \"marks\": {\n",
    "        \"english\": 75,\n",
    "        \"maths\": 80\n",
    "    }\n",
    "}\n",
    "\"\"\"\n",
    "\n",
    "import json\n",
    "student_json_conf1 = json.loads(json_str_conf)\n",
    "classname = \"student_dict\"\n",
    "cls1 = vars()[classname](**student_json_conf1)\n",
    "class_list.append(cls1)\n",
    "\n",
    "json_str_conf2 = \"\"\"\n",
    "{\n",
    "    \"rollNumber\": 2,\n",
    "    \"name\": \"David\",\n",
    "    \"marks\": {\n",
    "        \"english\": 55,\n",
    "        \"maths\": 65\n",
    "    }\n",
    "}\n",
    "\"\"\"\n",
    "teacher_json_conf2 = json.loads(json_str_conf2)\n",
    "classname = \"teacher_dict\"\n",
    "cls2 = vars()[classname](**teacher_json_conf2)\n",
    "class_list.append(cls2)\n",
    "\n",
    "for class_int in class_list:\n",
    "    class_int.get_detail_method()\n",
    "    class_int.get_name_method()\n"
   ]
  },
  {
   "cell_type": "code",
   "execution_count": null,
   "id": "a4b03b22",
   "metadata": {},
   "outputs": [],
   "source": []
  },
  {
   "cell_type": "code",
   "execution_count": null,
   "id": "6e2f731d",
   "metadata": {},
   "outputs": [],
   "source": []
  },
  {
   "cell_type": "code",
   "execution_count": 73,
   "id": "3ef98265",
   "metadata": {},
   "outputs": [],
   "source": [
    "# class with json config file and create class instance based on class name\n",
    "class base_etl_cls:\n",
    "    def __init__(self, **init_kwargs):\n",
    "        self.dict_conf = init_kwargs\n",
    "    def get_detail_method(self):\n",
    "        print(self.dict_conf)\n",
    "    def get_name_method(self):\n",
    "        pass\n",
    "class trans1_etl_cls(base_etl_cls):\n",
    "    def __init__(self, **init_kwargs):\n",
    "        super().__init__(**init_kwargs)\n",
    "    def get_detail_method(self):\n",
    "        print('transform1 detail is -',self.dict_conf)\n",
    "    def get_name_method(self):\n",
    "        print('transform2 task parameters are -',self.dict_conf.get('config_details', None))\n",
    "        \n",
    "class trans2_etl_cls(base_etl_cls):\n",
    "    def __init__(self, **init_kwargs):\n",
    "        super().__init__(**init_kwargs)\n",
    "    def get_detail_method(self):\n",
    "        print('transform2 detail is -',self.dict_conf)\n",
    "    def get_name_method(self):\n",
    "        print('transform2 task parameters are -',self.dict_conf.get('config_details', None))\n"
   ]
  },
  {
   "cell_type": "code",
   "execution_count": 80,
   "id": "96d0dfba",
   "metadata": {},
   "outputs": [
    {
     "name": "stdout",
     "output_type": "stream",
     "text": [
      "transform1 detail is - {'param1': 'task_v11', 'param2': 'task_v12', 'param3': 'task_v13'}\n",
      "transform1 detail is - {'param1': 'value1', 'param2': 'value2', 'param3': 'value3'}\n",
      "transform2 detail is - {'param1': 'value1', 'param2': 'value2', 'param3': 'value3'}\n"
     ]
    }
   ],
   "source": [
    "json_str_conf3 = \"\"\"\n",
    "{\n",
    "\t\"config_name\": \"class_name1\",\n",
    "\t\"config_value\": \"conf1\",\n",
    "\t\"task_list\": [{\n",
    "\t\t\t\"taskname\": \"check1\",\n",
    "\t\t\t\"classname\": \"trans1_etl_cls\",\n",
    "\t\t\t\"config_details\": {\n",
    "\t\t\t\t\"param1\": \"task_v11\",\n",
    "\t\t\t\t\"param2\": \"task_v12\",\n",
    "\t\t\t\t\"param3\": \"task_v13\"\n",
    "\t\t\t}\n",
    "\t\t},\n",
    "\t\t{\n",
    "\t\t\t\"taskname\": \"check1\",\n",
    "\t\t\t\"classname\": \"trans1_etl_cls\",\n",
    "\t\t\t\"config_details\": {\n",
    "\t\t\t\t\"param1\": \"value1\",\n",
    "\t\t\t\t\"param2\": \"value2\",\n",
    "\t\t\t\t\"param3\": \"value3\"\n",
    "\t\t\t}\n",
    "\t\t},\n",
    "\t\t{\n",
    "\t\t\t\"taskname\": \"check1\",\n",
    "\t\t\t\"classname\": \"trans2_etl_cls\",\n",
    "\t\t\t\"config_details\": {\n",
    "\t\t\t\t\"param1\": \"value1\",\n",
    "\t\t\t\t\"param2\": \"value2\",\n",
    "\t\t\t\t\"param3\": \"value3\"\n",
    "\t\t\t}\n",
    "\t\t}\n",
    "\t]\n",
    "}\n",
    "\"\"\"\n",
    "\n",
    "student_json_conf3 = json.loads(json_str_conf3)\n",
    "config_name = student_json_conf3.get('config_name')\n",
    "config_value = student_json_conf3.get('config_value')\n",
    "for task in student_json_conf3.get('task_list'):\n",
    "    class_name = task.get('classname')\n",
    "    input_param = task.get('config_details')\n",
    "    cls2 = eval(class_name)(**input_param)\n",
    "    cls2.get_detail_method()"
   ]
  },
  {
   "cell_type": "code",
   "execution_count": null,
   "id": "0ca70241",
   "metadata": {},
   "outputs": [],
   "source": []
  },
  {
   "cell_type": "code",
   "execution_count": null,
   "id": "5c2ed5e5",
   "metadata": {},
   "outputs": [],
   "source": []
  },
  {
   "cell_type": "code",
   "execution_count": null,
   "id": "671e55b0",
   "metadata": {},
   "outputs": [],
   "source": []
  },
  {
   "cell_type": "code",
   "execution_count": null,
   "id": "0b25645f",
   "metadata": {},
   "outputs": [],
   "source": []
  },
  {
   "cell_type": "code",
   "execution_count": null,
   "id": "f33090d2",
   "metadata": {},
   "outputs": [],
   "source": []
  },
  {
   "cell_type": "code",
   "execution_count": null,
   "id": "14a9734a",
   "metadata": {},
   "outputs": [],
   "source": []
  },
  {
   "cell_type": "code",
   "execution_count": 34,
   "id": "7dfe323b",
   "metadata": {},
   "outputs": [
    {
     "name": "stdout",
     "output_type": "stream",
     "text": [
      "{'var1': 1, 'var2': 2}\n",
      "{'var4': 4, 'var5': 5, 'var6': 6}\n"
     ]
    }
   ],
   "source": [
    "cls1 = Person_dict(var1=1, var2=2)\n",
    "cls1.get_detail_method()\n",
    "\n",
    "var_dict1 = {'var4': 4, 'var5': 5, 'var6': 6}\n",
    "cls2 = Person_dict(**var_dict1)\n",
    "cls2.get_detail_method()"
   ]
  },
  {
   "cell_type": "code",
   "execution_count": 36,
   "id": "c1ede1a0",
   "metadata": {},
   "outputs": [
    {
     "name": "stdout",
     "output_type": "stream",
     "text": [
      "{'rollNumber': 1, 'name': 'Emma', 'marks': {'english': 82, 'geometry': 74}}\n"
     ]
    }
   ],
   "source": [
    "var_json_conf = {\n",
    "    \"rollNumber\": 1,\n",
    "    \"name\": \"Emma\",\n",
    "    \"marks\": {\n",
    "        \"english\": 82,\n",
    "        \"geometry\": 74\n",
    "    }\n",
    "}\n",
    "\n",
    "cls2 = Person_dict(**var_json_conf)\n",
    "cls2.get_detail_method()"
   ]
  },
  {
   "cell_type": "code",
   "execution_count": 38,
   "id": "63b495cf",
   "metadata": {},
   "outputs": [
    {
     "name": "stdout",
     "output_type": "stream",
     "text": [
      "{'rollNumber': 1, 'name': 'James', 'marks': {'english': 75, 'maths': 80}}\n"
     ]
    }
   ],
   "source": [
    "json_str_conf = \"\"\"\n",
    "{\n",
    "    \"rollNumber\": 1,\n",
    "    \"name\": \"James\",\n",
    "    \"marks\": {\n",
    "        \"english\": 75,\n",
    "        \"maths\": 80\n",
    "    }\n",
    "}\n",
    "\"\"\"\n",
    "\n",
    "import json\n",
    "var_json_conf1 = json.loads(json_str_conf)\n",
    "cls2 = Person_dict(**var_json_conf1)\n",
    "cls2.get_detail_method()"
   ]
  }
 ],
 "metadata": {
  "kernelspec": {
   "display_name": "Python 3 (ipykernel)",
   "language": "python",
   "name": "python3"
  },
  "language_info": {
   "codemirror_mode": {
    "name": "ipython",
    "version": 3
   },
   "file_extension": ".py",
   "mimetype": "text/x-python",
   "name": "python",
   "nbconvert_exporter": "python",
   "pygments_lexer": "ipython3",
   "version": "3.9.12"
  }
 },
 "nbformat": 4,
 "nbformat_minor": 5
}
